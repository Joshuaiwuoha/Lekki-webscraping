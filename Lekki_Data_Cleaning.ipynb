{
  "cells": [
    {
      "cell_type": "markdown",
      "metadata": {
        "id": "view-in-github",
        "colab_type": "text"
      },
      "source": [
        "<a href=\"https://colab.research.google.com/github/Joshuaiwuoha/Lekki-webscraping/blob/main/Lekki_Data_Cleaning.ipynb\" target=\"_parent\"><img src=\"https://colab.research.google.com/assets/colab-badge.svg\" alt=\"Open In Colab\"/></a>"
      ]
    },
    {
      "cell_type": "markdown",
      "metadata": {
        "id": "4f_nRKw7o06g"
      },
      "source": [
        "### **Data Import**"
      ]
    },
    {
      "cell_type": "code",
      "execution_count": null,
      "metadata": {
        "id": "Z_eQyNMU5Yyv"
      },
      "outputs": [],
      "source": [
        "import pandas as pd\n",
        "import matplotlib.pyplot as plt\n",
        "import seaborn as sns\n",
        "import numpy as np\n",
        "%matplotlib inline"
      ]
    },
    {
      "cell_type": "code",
      "execution_count": null,
      "metadata": {
        "id": "BfJuWOY55Y1S"
      },
      "outputs": [],
      "source": [
        "#import the scraped dataset\n",
        "lek_rental = pd.read_csv('/content/lekki rentals (2)')\n",
        "lek_sales = pd.read_csv('/content/lekki_sales')"
      ]
    },
    {
      "cell_type": "markdown",
      "metadata": {
        "id": "ewgyOrBL6T-Z"
      },
      "source": [
        "# Data cleaning\n"
      ]
    },
    {
      "cell_type": "code",
      "execution_count": null,
      "metadata": {
        "colab": {
          "base_uri": "https://localhost:8080/",
          "height": 293
        },
        "id": "_EODaPbS6S7Y",
        "outputId": "b472c518-95b9-4d9e-a0fa-672ec7c6d93f"
      },
      "outputs": [
        {
          "output_type": "execute_result",
          "data": {
            "text/plain": [
              "                                         location  \\\n",
              "0              65 Ajiran Road, Agungi Lekki Lagos   \n",
              "1                       Lekki Phase 1 Lekki Lagos   \n",
              "2  Van Daniels Estate Orchid, Chevron Lekki Lagos   \n",
              "3          Chevron Toll Gate, Chevron Lekki Lagos   \n",
              "4                       Lekki Phase 1 Lekki Lagos   \n",
              "\n",
              "                                  apartment_type    baths    toilets  \\\n",
              "0        Lovely 4 Bedroom Terrace Duplex With Bq  1 baths  2 Toilets   \n",
              "1           1 Ensuite Room In A Shared Apartment  5 baths  5 Toilets   \n",
              "2          Luxury 4 Bedroom Detached Duplex + Bq  1 baths  1 Toilets   \n",
              "3  Luxury 4 Bedroom Semi Detached Duplex With Bq  4 baths  5 Toilets   \n",
              "4          Luxury 4 Bedroom Semi Detached Duplex  4 baths  5 Toilets   \n",
              "\n",
              "                 status                               last_updated     price  \n",
              "0              Serviced    Updated 19 Sep 2023, Added 04 Sep 2023   10000000  \n",
              "1  Serviced,Newly Built                         Added 21 Sep 2023     900000  \n",
              "2           Newly Built    Updated 21 Sep 2023, Added 12 Sep 2023    8500000  \n",
              "3  Serviced,Newly Built    Updated 21 Sep 2023, Added 08 Aug 2023   12000000  \n",
              "4  Serviced,Newly Built    Updated 21 Sep 2023, Added 14 Jul 2023    6000000  "
            ],
            "text/html": [
              "\n",
              "  <div id=\"df-a56dd25d-d3f7-46d1-bb52-904a7247cb85\" class=\"colab-df-container\">\n",
              "    <div>\n",
              "<style scoped>\n",
              "    .dataframe tbody tr th:only-of-type {\n",
              "        vertical-align: middle;\n",
              "    }\n",
              "\n",
              "    .dataframe tbody tr th {\n",
              "        vertical-align: top;\n",
              "    }\n",
              "\n",
              "    .dataframe thead th {\n",
              "        text-align: right;\n",
              "    }\n",
              "</style>\n",
              "<table border=\"1\" class=\"dataframe\">\n",
              "  <thead>\n",
              "    <tr style=\"text-align: right;\">\n",
              "      <th></th>\n",
              "      <th>location</th>\n",
              "      <th>apartment_type</th>\n",
              "      <th>baths</th>\n",
              "      <th>toilets</th>\n",
              "      <th>status</th>\n",
              "      <th>last_updated</th>\n",
              "      <th>price</th>\n",
              "    </tr>\n",
              "  </thead>\n",
              "  <tbody>\n",
              "    <tr>\n",
              "      <th>0</th>\n",
              "      <td>65 Ajiran Road, Agungi Lekki Lagos</td>\n",
              "      <td>Lovely 4 Bedroom Terrace Duplex With Bq</td>\n",
              "      <td>1 baths</td>\n",
              "      <td>2 Toilets</td>\n",
              "      <td>Serviced</td>\n",
              "      <td>Updated 19 Sep 2023, Added 04 Sep 2023</td>\n",
              "      <td>10000000</td>\n",
              "    </tr>\n",
              "    <tr>\n",
              "      <th>1</th>\n",
              "      <td>Lekki Phase 1 Lekki Lagos</td>\n",
              "      <td>1 Ensuite Room In A Shared Apartment</td>\n",
              "      <td>5 baths</td>\n",
              "      <td>5 Toilets</td>\n",
              "      <td>Serviced,Newly Built</td>\n",
              "      <td>Added 21 Sep 2023</td>\n",
              "      <td>900000</td>\n",
              "    </tr>\n",
              "    <tr>\n",
              "      <th>2</th>\n",
              "      <td>Van Daniels Estate Orchid, Chevron Lekki Lagos</td>\n",
              "      <td>Luxury 4 Bedroom Detached Duplex + Bq</td>\n",
              "      <td>1 baths</td>\n",
              "      <td>1 Toilets</td>\n",
              "      <td>Newly Built</td>\n",
              "      <td>Updated 21 Sep 2023, Added 12 Sep 2023</td>\n",
              "      <td>8500000</td>\n",
              "    </tr>\n",
              "    <tr>\n",
              "      <th>3</th>\n",
              "      <td>Chevron Toll Gate, Chevron Lekki Lagos</td>\n",
              "      <td>Luxury 4 Bedroom Semi Detached Duplex With Bq</td>\n",
              "      <td>4 baths</td>\n",
              "      <td>5 Toilets</td>\n",
              "      <td>Serviced,Newly Built</td>\n",
              "      <td>Updated 21 Sep 2023, Added 08 Aug 2023</td>\n",
              "      <td>12000000</td>\n",
              "    </tr>\n",
              "    <tr>\n",
              "      <th>4</th>\n",
              "      <td>Lekki Phase 1 Lekki Lagos</td>\n",
              "      <td>Luxury 4 Bedroom Semi Detached Duplex</td>\n",
              "      <td>4 baths</td>\n",
              "      <td>5 Toilets</td>\n",
              "      <td>Serviced,Newly Built</td>\n",
              "      <td>Updated 21 Sep 2023, Added 14 Jul 2023</td>\n",
              "      <td>6000000</td>\n",
              "    </tr>\n",
              "  </tbody>\n",
              "</table>\n",
              "</div>\n",
              "    <div class=\"colab-df-buttons\">\n",
              "\n",
              "  <div class=\"colab-df-container\">\n",
              "    <button class=\"colab-df-convert\" onclick=\"convertToInteractive('df-a56dd25d-d3f7-46d1-bb52-904a7247cb85')\"\n",
              "            title=\"Convert this dataframe to an interactive table.\"\n",
              "            style=\"display:none;\">\n",
              "\n",
              "  <svg xmlns=\"http://www.w3.org/2000/svg\" height=\"24px\" viewBox=\"0 -960 960 960\">\n",
              "    <path d=\"M120-120v-720h720v720H120Zm60-500h600v-160H180v160Zm220 220h160v-160H400v160Zm0 220h160v-160H400v160ZM180-400h160v-160H180v160Zm440 0h160v-160H620v160ZM180-180h160v-160H180v160Zm440 0h160v-160H620v160Z\"/>\n",
              "  </svg>\n",
              "    </button>\n",
              "\n",
              "  <style>\n",
              "    .colab-df-container {\n",
              "      display:flex;\n",
              "      gap: 12px;\n",
              "    }\n",
              "\n",
              "    .colab-df-convert {\n",
              "      background-color: #E8F0FE;\n",
              "      border: none;\n",
              "      border-radius: 50%;\n",
              "      cursor: pointer;\n",
              "      display: none;\n",
              "      fill: #1967D2;\n",
              "      height: 32px;\n",
              "      padding: 0 0 0 0;\n",
              "      width: 32px;\n",
              "    }\n",
              "\n",
              "    .colab-df-convert:hover {\n",
              "      background-color: #E2EBFA;\n",
              "      box-shadow: 0px 1px 2px rgba(60, 64, 67, 0.3), 0px 1px 3px 1px rgba(60, 64, 67, 0.15);\n",
              "      fill: #174EA6;\n",
              "    }\n",
              "\n",
              "    .colab-df-buttons div {\n",
              "      margin-bottom: 4px;\n",
              "    }\n",
              "\n",
              "    [theme=dark] .colab-df-convert {\n",
              "      background-color: #3B4455;\n",
              "      fill: #D2E3FC;\n",
              "    }\n",
              "\n",
              "    [theme=dark] .colab-df-convert:hover {\n",
              "      background-color: #434B5C;\n",
              "      box-shadow: 0px 1px 3px 1px rgba(0, 0, 0, 0.15);\n",
              "      filter: drop-shadow(0px 1px 2px rgba(0, 0, 0, 0.3));\n",
              "      fill: #FFFFFF;\n",
              "    }\n",
              "  </style>\n",
              "\n",
              "    <script>\n",
              "      const buttonEl =\n",
              "        document.querySelector('#df-a56dd25d-d3f7-46d1-bb52-904a7247cb85 button.colab-df-convert');\n",
              "      buttonEl.style.display =\n",
              "        google.colab.kernel.accessAllowed ? 'block' : 'none';\n",
              "\n",
              "      async function convertToInteractive(key) {\n",
              "        const element = document.querySelector('#df-a56dd25d-d3f7-46d1-bb52-904a7247cb85');\n",
              "        const dataTable =\n",
              "          await google.colab.kernel.invokeFunction('convertToInteractive',\n",
              "                                                    [key], {});\n",
              "        if (!dataTable) return;\n",
              "\n",
              "        const docLinkHtml = 'Like what you see? Visit the ' +\n",
              "          '<a target=\"_blank\" href=https://colab.research.google.com/notebooks/data_table.ipynb>data table notebook</a>'\n",
              "          + ' to learn more about interactive tables.';\n",
              "        element.innerHTML = '';\n",
              "        dataTable['output_type'] = 'display_data';\n",
              "        await google.colab.output.renderOutput(dataTable, element);\n",
              "        const docLink = document.createElement('div');\n",
              "        docLink.innerHTML = docLinkHtml;\n",
              "        element.appendChild(docLink);\n",
              "      }\n",
              "    </script>\n",
              "  </div>\n",
              "\n",
              "\n",
              "<div id=\"df-f4324cf1-7ea6-40e5-91c1-4dd4f9570b8d\">\n",
              "  <button class=\"colab-df-quickchart\" onclick=\"quickchart('df-f4324cf1-7ea6-40e5-91c1-4dd4f9570b8d')\"\n",
              "            title=\"Suggest charts.\"\n",
              "            style=\"display:none;\">\n",
              "\n",
              "<svg xmlns=\"http://www.w3.org/2000/svg\" height=\"24px\"viewBox=\"0 0 24 24\"\n",
              "     width=\"24px\">\n",
              "    <g>\n",
              "        <path d=\"M19 3H5c-1.1 0-2 .9-2 2v14c0 1.1.9 2 2 2h14c1.1 0 2-.9 2-2V5c0-1.1-.9-2-2-2zM9 17H7v-7h2v7zm4 0h-2V7h2v10zm4 0h-2v-4h2v4z\"/>\n",
              "    </g>\n",
              "</svg>\n",
              "  </button>\n",
              "\n",
              "<style>\n",
              "  .colab-df-quickchart {\n",
              "      --bg-color: #E8F0FE;\n",
              "      --fill-color: #1967D2;\n",
              "      --hover-bg-color: #E2EBFA;\n",
              "      --hover-fill-color: #174EA6;\n",
              "      --disabled-fill-color: #AAA;\n",
              "      --disabled-bg-color: #DDD;\n",
              "  }\n",
              "\n",
              "  [theme=dark] .colab-df-quickchart {\n",
              "      --bg-color: #3B4455;\n",
              "      --fill-color: #D2E3FC;\n",
              "      --hover-bg-color: #434B5C;\n",
              "      --hover-fill-color: #FFFFFF;\n",
              "      --disabled-bg-color: #3B4455;\n",
              "      --disabled-fill-color: #666;\n",
              "  }\n",
              "\n",
              "  .colab-df-quickchart {\n",
              "    background-color: var(--bg-color);\n",
              "    border: none;\n",
              "    border-radius: 50%;\n",
              "    cursor: pointer;\n",
              "    display: none;\n",
              "    fill: var(--fill-color);\n",
              "    height: 32px;\n",
              "    padding: 0;\n",
              "    width: 32px;\n",
              "  }\n",
              "\n",
              "  .colab-df-quickchart:hover {\n",
              "    background-color: var(--hover-bg-color);\n",
              "    box-shadow: 0 1px 2px rgba(60, 64, 67, 0.3), 0 1px 3px 1px rgba(60, 64, 67, 0.15);\n",
              "    fill: var(--button-hover-fill-color);\n",
              "  }\n",
              "\n",
              "  .colab-df-quickchart-complete:disabled,\n",
              "  .colab-df-quickchart-complete:disabled:hover {\n",
              "    background-color: var(--disabled-bg-color);\n",
              "    fill: var(--disabled-fill-color);\n",
              "    box-shadow: none;\n",
              "  }\n",
              "\n",
              "  .colab-df-spinner {\n",
              "    border: 2px solid var(--fill-color);\n",
              "    border-color: transparent;\n",
              "    border-bottom-color: var(--fill-color);\n",
              "    animation:\n",
              "      spin 1s steps(1) infinite;\n",
              "  }\n",
              "\n",
              "  @keyframes spin {\n",
              "    0% {\n",
              "      border-color: transparent;\n",
              "      border-bottom-color: var(--fill-color);\n",
              "      border-left-color: var(--fill-color);\n",
              "    }\n",
              "    20% {\n",
              "      border-color: transparent;\n",
              "      border-left-color: var(--fill-color);\n",
              "      border-top-color: var(--fill-color);\n",
              "    }\n",
              "    30% {\n",
              "      border-color: transparent;\n",
              "      border-left-color: var(--fill-color);\n",
              "      border-top-color: var(--fill-color);\n",
              "      border-right-color: var(--fill-color);\n",
              "    }\n",
              "    40% {\n",
              "      border-color: transparent;\n",
              "      border-right-color: var(--fill-color);\n",
              "      border-top-color: var(--fill-color);\n",
              "    }\n",
              "    60% {\n",
              "      border-color: transparent;\n",
              "      border-right-color: var(--fill-color);\n",
              "    }\n",
              "    80% {\n",
              "      border-color: transparent;\n",
              "      border-right-color: var(--fill-color);\n",
              "      border-bottom-color: var(--fill-color);\n",
              "    }\n",
              "    90% {\n",
              "      border-color: transparent;\n",
              "      border-bottom-color: var(--fill-color);\n",
              "    }\n",
              "  }\n",
              "</style>\n",
              "\n",
              "  <script>\n",
              "    async function quickchart(key) {\n",
              "      const quickchartButtonEl =\n",
              "        document.querySelector('#' + key + ' button');\n",
              "      quickchartButtonEl.disabled = true;  // To prevent multiple clicks.\n",
              "      quickchartButtonEl.classList.add('colab-df-spinner');\n",
              "      try {\n",
              "        const charts = await google.colab.kernel.invokeFunction(\n",
              "            'suggestCharts', [key], {});\n",
              "      } catch (error) {\n",
              "        console.error('Error during call to suggestCharts:', error);\n",
              "      }\n",
              "      quickchartButtonEl.classList.remove('colab-df-spinner');\n",
              "      quickchartButtonEl.classList.add('colab-df-quickchart-complete');\n",
              "    }\n",
              "    (() => {\n",
              "      let quickchartButtonEl =\n",
              "        document.querySelector('#df-f4324cf1-7ea6-40e5-91c1-4dd4f9570b8d button');\n",
              "      quickchartButtonEl.style.display =\n",
              "        google.colab.kernel.accessAllowed ? 'block' : 'none';\n",
              "    })();\n",
              "  </script>\n",
              "</div>\n",
              "    </div>\n",
              "  </div>\n"
            ]
          },
          "metadata": {},
          "execution_count": 53
        }
      ],
      "source": [
        "lek_rental.head()"
      ]
    },
    {
      "cell_type": "code",
      "execution_count": null,
      "metadata": {
        "id": "_6Cr07k0XaBb",
        "colab": {
          "base_uri": "https://localhost:8080/",
          "height": 206
        },
        "outputId": "b696e4a3-177a-41d3-8af6-a519f50e462e"
      },
      "outputs": [
        {
          "output_type": "execute_result",
          "data": {
            "text/plain": [
              "                                   location  \\\n",
              "0                               Lekki Lagos   \n",
              "1                       Chevron Lekki Lagos   \n",
              "2           Cowrie Creek Estate Lekki Lagos   \n",
              "3  Pinnock Beach Estate Jakande Lekki Lagos   \n",
              "4                  Osapa London Lekki Lagos   \n",
              "\n",
              "                        apartment_type       status  \\\n",
              "0             4 Bedroom Terrace Duplex  Newly Built   \n",
              "1                Land Measuring 800sqm  Newly Built   \n",
              "2  Detached 5 Bedroom Duplex (carcass)          NaN   \n",
              "3       4 Bedroom Semi Detached Duplex     Serviced   \n",
              "4                     Residential Land     Serviced   \n",
              "\n",
              "                                last_updated      price  \n",
              "0    Updated 24 Sep 2023, Added 09 Dec 2022   125000000  \n",
              "1    Updated 26 Sep 2023, Added 21 Sep 2023   340000000  \n",
              "2                         Added 26 Sep 2023   250000000  \n",
              "3    Updated 26 Sep 2023, Added 09 Aug 2023   300000000  \n",
              "4    Updated 26 Sep 2023, Added 11 Aug 2023      450000  "
            ],
            "text/html": [
              "\n",
              "  <div id=\"df-2fc9364a-4da8-4657-bc1e-6c2218ae8fa2\" class=\"colab-df-container\">\n",
              "    <div>\n",
              "<style scoped>\n",
              "    .dataframe tbody tr th:only-of-type {\n",
              "        vertical-align: middle;\n",
              "    }\n",
              "\n",
              "    .dataframe tbody tr th {\n",
              "        vertical-align: top;\n",
              "    }\n",
              "\n",
              "    .dataframe thead th {\n",
              "        text-align: right;\n",
              "    }\n",
              "</style>\n",
              "<table border=\"1\" class=\"dataframe\">\n",
              "  <thead>\n",
              "    <tr style=\"text-align: right;\">\n",
              "      <th></th>\n",
              "      <th>location</th>\n",
              "      <th>apartment_type</th>\n",
              "      <th>status</th>\n",
              "      <th>last_updated</th>\n",
              "      <th>price</th>\n",
              "    </tr>\n",
              "  </thead>\n",
              "  <tbody>\n",
              "    <tr>\n",
              "      <th>0</th>\n",
              "      <td>Lekki Lagos</td>\n",
              "      <td>4 Bedroom Terrace Duplex</td>\n",
              "      <td>Newly Built</td>\n",
              "      <td>Updated 24 Sep 2023, Added 09 Dec 2022</td>\n",
              "      <td>125000000</td>\n",
              "    </tr>\n",
              "    <tr>\n",
              "      <th>1</th>\n",
              "      <td>Chevron Lekki Lagos</td>\n",
              "      <td>Land Measuring 800sqm</td>\n",
              "      <td>Newly Built</td>\n",
              "      <td>Updated 26 Sep 2023, Added 21 Sep 2023</td>\n",
              "      <td>340000000</td>\n",
              "    </tr>\n",
              "    <tr>\n",
              "      <th>2</th>\n",
              "      <td>Cowrie Creek Estate Lekki Lagos</td>\n",
              "      <td>Detached 5 Bedroom Duplex (carcass)</td>\n",
              "      <td>NaN</td>\n",
              "      <td>Added 26 Sep 2023</td>\n",
              "      <td>250000000</td>\n",
              "    </tr>\n",
              "    <tr>\n",
              "      <th>3</th>\n",
              "      <td>Pinnock Beach Estate Jakande Lekki Lagos</td>\n",
              "      <td>4 Bedroom Semi Detached Duplex</td>\n",
              "      <td>Serviced</td>\n",
              "      <td>Updated 26 Sep 2023, Added 09 Aug 2023</td>\n",
              "      <td>300000000</td>\n",
              "    </tr>\n",
              "    <tr>\n",
              "      <th>4</th>\n",
              "      <td>Osapa London Lekki Lagos</td>\n",
              "      <td>Residential Land</td>\n",
              "      <td>Serviced</td>\n",
              "      <td>Updated 26 Sep 2023, Added 11 Aug 2023</td>\n",
              "      <td>450000</td>\n",
              "    </tr>\n",
              "  </tbody>\n",
              "</table>\n",
              "</div>\n",
              "    <div class=\"colab-df-buttons\">\n",
              "\n",
              "  <div class=\"colab-df-container\">\n",
              "    <button class=\"colab-df-convert\" onclick=\"convertToInteractive('df-2fc9364a-4da8-4657-bc1e-6c2218ae8fa2')\"\n",
              "            title=\"Convert this dataframe to an interactive table.\"\n",
              "            style=\"display:none;\">\n",
              "\n",
              "  <svg xmlns=\"http://www.w3.org/2000/svg\" height=\"24px\" viewBox=\"0 -960 960 960\">\n",
              "    <path d=\"M120-120v-720h720v720H120Zm60-500h600v-160H180v160Zm220 220h160v-160H400v160Zm0 220h160v-160H400v160ZM180-400h160v-160H180v160Zm440 0h160v-160H620v160ZM180-180h160v-160H180v160Zm440 0h160v-160H620v160Z\"/>\n",
              "  </svg>\n",
              "    </button>\n",
              "\n",
              "  <style>\n",
              "    .colab-df-container {\n",
              "      display:flex;\n",
              "      gap: 12px;\n",
              "    }\n",
              "\n",
              "    .colab-df-convert {\n",
              "      background-color: #E8F0FE;\n",
              "      border: none;\n",
              "      border-radius: 50%;\n",
              "      cursor: pointer;\n",
              "      display: none;\n",
              "      fill: #1967D2;\n",
              "      height: 32px;\n",
              "      padding: 0 0 0 0;\n",
              "      width: 32px;\n",
              "    }\n",
              "\n",
              "    .colab-df-convert:hover {\n",
              "      background-color: #E2EBFA;\n",
              "      box-shadow: 0px 1px 2px rgba(60, 64, 67, 0.3), 0px 1px 3px 1px rgba(60, 64, 67, 0.15);\n",
              "      fill: #174EA6;\n",
              "    }\n",
              "\n",
              "    .colab-df-buttons div {\n",
              "      margin-bottom: 4px;\n",
              "    }\n",
              "\n",
              "    [theme=dark] .colab-df-convert {\n",
              "      background-color: #3B4455;\n",
              "      fill: #D2E3FC;\n",
              "    }\n",
              "\n",
              "    [theme=dark] .colab-df-convert:hover {\n",
              "      background-color: #434B5C;\n",
              "      box-shadow: 0px 1px 3px 1px rgba(0, 0, 0, 0.15);\n",
              "      filter: drop-shadow(0px 1px 2px rgba(0, 0, 0, 0.3));\n",
              "      fill: #FFFFFF;\n",
              "    }\n",
              "  </style>\n",
              "\n",
              "    <script>\n",
              "      const buttonEl =\n",
              "        document.querySelector('#df-2fc9364a-4da8-4657-bc1e-6c2218ae8fa2 button.colab-df-convert');\n",
              "      buttonEl.style.display =\n",
              "        google.colab.kernel.accessAllowed ? 'block' : 'none';\n",
              "\n",
              "      async function convertToInteractive(key) {\n",
              "        const element = document.querySelector('#df-2fc9364a-4da8-4657-bc1e-6c2218ae8fa2');\n",
              "        const dataTable =\n",
              "          await google.colab.kernel.invokeFunction('convertToInteractive',\n",
              "                                                    [key], {});\n",
              "        if (!dataTable) return;\n",
              "\n",
              "        const docLinkHtml = 'Like what you see? Visit the ' +\n",
              "          '<a target=\"_blank\" href=https://colab.research.google.com/notebooks/data_table.ipynb>data table notebook</a>'\n",
              "          + ' to learn more about interactive tables.';\n",
              "        element.innerHTML = '';\n",
              "        dataTable['output_type'] = 'display_data';\n",
              "        await google.colab.output.renderOutput(dataTable, element);\n",
              "        const docLink = document.createElement('div');\n",
              "        docLink.innerHTML = docLinkHtml;\n",
              "        element.appendChild(docLink);\n",
              "      }\n",
              "    </script>\n",
              "  </div>\n",
              "\n",
              "\n",
              "<div id=\"df-baec43b6-ac26-4708-8e4a-770da2b79698\">\n",
              "  <button class=\"colab-df-quickchart\" onclick=\"quickchart('df-baec43b6-ac26-4708-8e4a-770da2b79698')\"\n",
              "            title=\"Suggest charts.\"\n",
              "            style=\"display:none;\">\n",
              "\n",
              "<svg xmlns=\"http://www.w3.org/2000/svg\" height=\"24px\"viewBox=\"0 0 24 24\"\n",
              "     width=\"24px\">\n",
              "    <g>\n",
              "        <path d=\"M19 3H5c-1.1 0-2 .9-2 2v14c0 1.1.9 2 2 2h14c1.1 0 2-.9 2-2V5c0-1.1-.9-2-2-2zM9 17H7v-7h2v7zm4 0h-2V7h2v10zm4 0h-2v-4h2v4z\"/>\n",
              "    </g>\n",
              "</svg>\n",
              "  </button>\n",
              "\n",
              "<style>\n",
              "  .colab-df-quickchart {\n",
              "      --bg-color: #E8F0FE;\n",
              "      --fill-color: #1967D2;\n",
              "      --hover-bg-color: #E2EBFA;\n",
              "      --hover-fill-color: #174EA6;\n",
              "      --disabled-fill-color: #AAA;\n",
              "      --disabled-bg-color: #DDD;\n",
              "  }\n",
              "\n",
              "  [theme=dark] .colab-df-quickchart {\n",
              "      --bg-color: #3B4455;\n",
              "      --fill-color: #D2E3FC;\n",
              "      --hover-bg-color: #434B5C;\n",
              "      --hover-fill-color: #FFFFFF;\n",
              "      --disabled-bg-color: #3B4455;\n",
              "      --disabled-fill-color: #666;\n",
              "  }\n",
              "\n",
              "  .colab-df-quickchart {\n",
              "    background-color: var(--bg-color);\n",
              "    border: none;\n",
              "    border-radius: 50%;\n",
              "    cursor: pointer;\n",
              "    display: none;\n",
              "    fill: var(--fill-color);\n",
              "    height: 32px;\n",
              "    padding: 0;\n",
              "    width: 32px;\n",
              "  }\n",
              "\n",
              "  .colab-df-quickchart:hover {\n",
              "    background-color: var(--hover-bg-color);\n",
              "    box-shadow: 0 1px 2px rgba(60, 64, 67, 0.3), 0 1px 3px 1px rgba(60, 64, 67, 0.15);\n",
              "    fill: var(--button-hover-fill-color);\n",
              "  }\n",
              "\n",
              "  .colab-df-quickchart-complete:disabled,\n",
              "  .colab-df-quickchart-complete:disabled:hover {\n",
              "    background-color: var(--disabled-bg-color);\n",
              "    fill: var(--disabled-fill-color);\n",
              "    box-shadow: none;\n",
              "  }\n",
              "\n",
              "  .colab-df-spinner {\n",
              "    border: 2px solid var(--fill-color);\n",
              "    border-color: transparent;\n",
              "    border-bottom-color: var(--fill-color);\n",
              "    animation:\n",
              "      spin 1s steps(1) infinite;\n",
              "  }\n",
              "\n",
              "  @keyframes spin {\n",
              "    0% {\n",
              "      border-color: transparent;\n",
              "      border-bottom-color: var(--fill-color);\n",
              "      border-left-color: var(--fill-color);\n",
              "    }\n",
              "    20% {\n",
              "      border-color: transparent;\n",
              "      border-left-color: var(--fill-color);\n",
              "      border-top-color: var(--fill-color);\n",
              "    }\n",
              "    30% {\n",
              "      border-color: transparent;\n",
              "      border-left-color: var(--fill-color);\n",
              "      border-top-color: var(--fill-color);\n",
              "      border-right-color: var(--fill-color);\n",
              "    }\n",
              "    40% {\n",
              "      border-color: transparent;\n",
              "      border-right-color: var(--fill-color);\n",
              "      border-top-color: var(--fill-color);\n",
              "    }\n",
              "    60% {\n",
              "      border-color: transparent;\n",
              "      border-right-color: var(--fill-color);\n",
              "    }\n",
              "    80% {\n",
              "      border-color: transparent;\n",
              "      border-right-color: var(--fill-color);\n",
              "      border-bottom-color: var(--fill-color);\n",
              "    }\n",
              "    90% {\n",
              "      border-color: transparent;\n",
              "      border-bottom-color: var(--fill-color);\n",
              "    }\n",
              "  }\n",
              "</style>\n",
              "\n",
              "  <script>\n",
              "    async function quickchart(key) {\n",
              "      const quickchartButtonEl =\n",
              "        document.querySelector('#' + key + ' button');\n",
              "      quickchartButtonEl.disabled = true;  // To prevent multiple clicks.\n",
              "      quickchartButtonEl.classList.add('colab-df-spinner');\n",
              "      try {\n",
              "        const charts = await google.colab.kernel.invokeFunction(\n",
              "            'suggestCharts', [key], {});\n",
              "      } catch (error) {\n",
              "        console.error('Error during call to suggestCharts:', error);\n",
              "      }\n",
              "      quickchartButtonEl.classList.remove('colab-df-spinner');\n",
              "      quickchartButtonEl.classList.add('colab-df-quickchart-complete');\n",
              "    }\n",
              "    (() => {\n",
              "      let quickchartButtonEl =\n",
              "        document.querySelector('#df-baec43b6-ac26-4708-8e4a-770da2b79698 button');\n",
              "      quickchartButtonEl.style.display =\n",
              "        google.colab.kernel.accessAllowed ? 'block' : 'none';\n",
              "    })();\n",
              "  </script>\n",
              "</div>\n",
              "    </div>\n",
              "  </div>\n"
            ]
          },
          "metadata": {},
          "execution_count": 56
        }
      ],
      "source": [
        "lek_sales.head()"
      ]
    },
    {
      "cell_type": "code",
      "execution_count": null,
      "metadata": {
        "id": "1TfAszWI5Y22"
      },
      "outputs": [],
      "source": [
        "#check for missing data\n",
        "def missing(data):\n",
        "  data.isnull().sum().plot(kind = 'bar')\n",
        "  plt.show()"
      ]
    },
    {
      "cell_type": "code",
      "execution_count": null,
      "metadata": {
        "colab": {
          "base_uri": "https://localhost:8080/",
          "height": 1000
        },
        "id": "q3XcMoXx5Y6W",
        "outputId": "431744c2-3fb6-4315-a108-5ce147c09be8"
      },
      "outputs": [
        {
          "output_type": "display_data",
          "data": {
            "text/plain": [
              "<Figure size 640x480 with 1 Axes>"
            ],
            "image/png": "[encoded data removed]"
          },
          "metadata": {}
        },
        {
          "output_type": "display_data",
          "data": {
            "text/plain": [
              "<Figure size 640x480 with 1 Axes>"
            ],
            "image/png": "[encoded data removed]"
          },
          "metadata": {}
        },
        {
          "output_type": "execute_result",
          "data": {
            "text/plain": [
              "(None, None)"
            ]
          },
          "metadata": {},
          "execution_count": 58
        }
      ],
      "source": [
        "missing(lek_rental), missing(lek_sales)"
      ]
    },
    {
      "cell_type": "code",
      "execution_count": null,
      "metadata": {
        "colab": {
          "base_uri": "https://localhost:8080/"
        },
        "id": "MItZo1AvXviL",
        "outputId": "c231ebd1-6d37-4943-a6d6-8db850e34768"
      },
      "outputs": [
        {
          "output_type": "execute_result",
          "data": {
            "text/plain": [
              "(location            19\n",
              " apartment_type      24\n",
              " baths               11\n",
              " toilets             11\n",
              " status               9\n",
              " last_updated      3128\n",
              " price              120\n",
              " dtype: int64,\n",
              " location            29\n",
              " apartment_type      32\n",
              " status               9\n",
              " last_updated      8245\n",
              " price              289\n",
              " dtype: int64)"
            ]
          },
          "metadata": {},
          "execution_count": 33
        }
      ],
      "source": [
        "#check for the number of unique values for all columns\n",
        "lek_rental.nunique(), lek_sales.nunique()"
      ]
    },
    {
      "cell_type": "code",
      "execution_count": null,
      "metadata": {
        "id": "css83yI8EtXi"
      },
      "outputs": [],
      "source": [
        "#check for duplicates\n",
        "lek_rental.drop_duplicates(inplace = True)\n",
        "lek_sales.drop_duplicates(inplace = True)"
      ]
    },
    {
      "cell_type": "code",
      "execution_count": null,
      "metadata": {
        "id": "wSvz1MiBodZV"
      },
      "outputs": [],
      "source": [
        "#standardised list of location names\n",
        "loc = ['Agungi','Ajiran','Along Lekki Expressway','Chevron','Idado','Igbo Efon','Orchid'\t,'Ikate'\t,'Ikota','Ilasan'\t,'Jakande'\t,'Lekki Phase 1','Lekki Phase 2'\t,'Nicon Town'\t,'Ologolo'\t,'Oral Estate'\t,'Osapa London'\t,'Vgc']"
      ]
    },
    {
      "cell_type": "code",
      "execution_count": null,
      "metadata": {
        "id": "tw4yq6hUpZxQ"
      },
      "outputs": [],
      "source": [
        "#function to standardise the values in the location column\n",
        "def standardize(df):\n",
        "  for each in loc:\n",
        "    df['location'] = df['location'].apply(lambda x: each if each in x.split(' ') else x)\n",
        "    df['location'] = df['location'].apply(lambda x: each if each in x.split(',') else x)"
      ]
    },
    {
      "cell_type": "code",
      "source": [
        "standardize(lek_rental)\n",
        "standardize(lek_sales)"
      ],
      "metadata": {
        "id": "StFBjE8vk07e"
      },
      "execution_count": null,
      "outputs": []
    },
    {
      "cell_type": "code",
      "execution_count": null,
      "metadata": {
        "id": "5OeAGg4t0yPp"
      },
      "outputs": [],
      "source": [
        "#taking care of a few more extra cases\n",
        "lek_rental['location'] = lek_rental['location'].apply(lambda x: 'Lekki Phase 1' if '1' in str(x) else x)\n",
        "lek_rental['location'] = lek_rental['location'].apply(lambda x: 'Lekki Phase 2' if '2' in str(x) else x)"
      ]
    },
    {
      "cell_type": "code",
      "execution_count": null,
      "metadata": {
        "id": "3YeNpW9lGPND"
      },
      "outputs": [],
      "source": [
        "# too many different location names and to simplify the process a bit, i decided to drop some locations with very few values(precisely those with less than 7)\n",
        "lek_rental = lek_rental[lek_rental.location.isin(list(lek_rental.location.value_counts()[lek_rental.location.value_counts()> 7].index))]\n",
        "lek_sales = lek_sales[lek_sales.location.isin(list(lek_sales.location.value_counts()[lek_sales.location.value_counts()> 7].index))]"
      ]
    },
    {
      "cell_type": "code",
      "source": [
        "# ads for other locations were also scrapped and so i drop them using the drop fuction\n",
        "lek_sales = lek_sales[~lek_sales.location.str.contains('Ikoyi|Abuja', case = False)]"
      ],
      "metadata": {
        "id": "A8nX-_6UcVG6"
      },
      "execution_count": null,
      "outputs": []
    },
    {
      "cell_type": "code",
      "source": [
        "# ads for other locations were also scrapped and so i drop them using the drop fuction\n",
        "lek_rental = lek_rental[~lek_rental.location.str.contains('ikoyi', case = False)]"
      ],
      "metadata": {
        "id": "_On8pvNBcqsB"
      },
      "execution_count": null,
      "outputs": []
    },
    {
      "cell_type": "code",
      "source": [
        "# created a function that will use mapping to try to stadardise the values in the location column\n",
        "def standardize_location_with_mapping(location):\n",
        "    mapping = {\n",
        "                'Chevron': 'Chevron',\n",
        "        'Osapa London': 'Osapa London',\n",
        "        'Second Tollgate': 'Second Tollgate',\n",
        "        '2nd Toll Gate': 'Second Tollgate',\n",
        "        '2nd Tollgate Lekki Lagos': 'Second Tollgate',\n",
        "        'Agungi': 'Agungi',\n",
        "        'Idado': 'Idado',\n",
        "        'Orchid': 'Orchid',\n",
        "        'Ologolo': 'Ologolo',\n",
        "        'Ilasan': 'Ilasan',\n",
        "        'Ikate': 'Ikate',\n",
        "        'Ikota': 'Ikota',\n",
        "        'Lekki Phase 1': 'Lekki Phase 1',\n",
        "        'Phase 1, Lekki Lagos': 'Lekki Phase 1',\n",
        "        'Lekki Phase 2': 'Lekki Phase 2',\n",
        "        'Vgc': 'Vgc',\n",
        "        'Nicon Town': 'Nicon Town',\n",
        "        'Megamound': 'Megamound',\n",
        "        'Victory Park Estate': 'Victory Park Estate',\n",
        "        'Victory Park': 'Victory Park Estate',\n",
        "        'Igbo Efon': 'Igbo Efon',\n",
        "        'Lekki County': 'Lekki County',\n",
        "        'Oral Estate': 'Oral Estate',\n",
        "        'Pinnock Beach Estate': 'Pinnock Beach Estate',\n",
        "        'Brains And Hammers Estate': 'Brains And Hammers Estate',\n",
        "        'Off Admiralty Way': 'Off Admiralty Way',\n",
        "        'Admiralty Way': 'Admiralty Way',\n",
        "        'Off Admiralty Road': 'Off Admiralty Way',\n",
        "        'Off Freedom Way': 'Off Freedom Way',\n",
        "        'Freedom Way': 'Freedom Way',\n",
        "        'Goodluck Babatunde Way': 'Goodluck Babatunde Way',\n",
        "        'Along Lekki Expressway': 'Along Lekki Expressway',\n",
        "        'Life Camp': 'Life Camp',\n",
        "        'Westend Estate': 'Westend Estate'\n",
        "    }\n",
        "\n",
        "    for key, value in mapping.items():\n",
        "        if key.lower() in location.lower():\n",
        "            return value\n",
        "\n",
        "    return location\n",
        "\n"
      ],
      "metadata": {
        "id": "w-Y_a8nXdEy3"
      },
      "execution_count": null,
      "outputs": []
    },
    {
      "cell_type": "code",
      "source": [
        "\n",
        "locations = lek_sales.location\n",
        "\n",
        "# standardize using mapping dictionary\n",
        "final_standardized_locations = [standardize_location_with_mapping(loc) for loc in locations]\n",
        "\n"
      ],
      "metadata": {
        "id": "ekix1qRJdEzK"
      },
      "execution_count": null,
      "outputs": []
    },
    {
      "cell_type": "code",
      "source": [
        "#assigning the results of the mapping function to the location column\n",
        "lek_sales['location'] = final_standardized_locations"
      ],
      "metadata": {
        "id": "831hyKxHdEzK"
      },
      "execution_count": null,
      "outputs": []
    },
    {
      "cell_type": "code",
      "execution_count": null,
      "metadata": {
        "id": "PamYXPkbC7b9"
      },
      "outputs": [],
      "source": [
        "# to take a look at the results to see if i was able to standardise the column reasonably\n",
        "lek_rental.location.value_counts().head(60),lek_sales.location.value_counts().head(60)"
      ]
    },
    {
      "cell_type": "code",
      "source": [
        "# created a function that standardise the apartment_type column\n",
        "def apartment_setup(df):\n",
        "    for i in range(1, 8):\n",
        "        df['apartment_type'] = df['apartment_type'].apply(lambda x: transform_apartment_type(x, i))\n",
        "\n",
        "def transform_apartment_type(x, i):\n",
        "    if 'Maisonette' in x.split(' '):\n",
        "        return f'{i} Bedroom Maisonette'\n",
        "    elif 'Penthouse' in x.split(' '):\n",
        "        return f'{i} Bedroom Penthouse'\n",
        "    elif 'Mini' in x.split(' ') and 'Flat' in x.split(' '):\n",
        "        return '1 Bedroom Flat'\n",
        "    elif 'Shared' in x.split(' ') or 'One' in x.split(' '):\n",
        "        return '1 Bedroom Flat'\n",
        "    elif f'{i}' in x and 'Detached' in x and 'Duplex' in x and 'Bq' in x:\n",
        "        return f'{i} Bedroom Detached Duplex (BQ)'\n",
        "    elif f'{i}' in x and 'Detached' in x and 'Duplex' in x and 'Bq' not in x:\n",
        "        return f'{i} Bedroom Detached Duplex'\n",
        "    elif f'{i}' in x and ('Terrace' in x or 'Terraced' in x) and 'Duplex' in x and 'Bq' in x:\n",
        "        return f'{i} Bedroom Terrace Duplex (Bq)'\n",
        "    elif f'{i}' in x and ('Terrace' in x or 'Terraced' in x) and 'Duplex' in x and 'Bq' not in x:\n",
        "        return f'{i} Bedroom Terrace Duplex'\n",
        "    elif f'{i}' in x and ('Semi' in x or 'Detached' in x) and 'Duplex' in x and 'Bq' in x:\n",
        "        return f'{i} Bedroom Semi Detached Duplex (Bq)'\n",
        "    elif f'{i}' in x and ('Semi' in x or 'Detached' in x) and 'Duplex' in x and 'Bq' not in x:\n",
        "        return f'{i} Bedroom Semi Detached Duplex'\n",
        "    elif f'{i}' in x and 'Bedroom' in x and ('Apartment' in x or 'Flat' in x or 'Mini' in x):\n",
        "        return f'{i} Bedroom Flat'\n",
        "    elif f'{i}' in x and 'Bedroom' in x and 'Duplex' in x and 'Detached' not in x and 'Terraced' not in x and 'Terrace' not in x:\n",
        "        return f'{i} Bedroom Duplex'\n",
        "    elif 'Studio' in x.split(' ') or 'self' in x.split(' ') or 'Contain' in x.split(' ') or 'Contained' in x.split(' '):\n",
        "        return 'Self contain'\n",
        "    else:\n",
        "        return x\n"
      ],
      "metadata": {
        "id": "-l7l2esXF50A"
      },
      "execution_count": null,
      "outputs": []
    },
    {
      "cell_type": "code",
      "source": [
        "# crearing a copy of both datasets\n",
        "lek_rental = lek_rental.copy()\n",
        "lek_sales = lek_sales.copy()"
      ],
      "metadata": {
        "id": "xs8Bj-hO0VP_"
      },
      "execution_count": null,
      "outputs": []
    },
    {
      "cell_type": "code",
      "execution_count": null,
      "metadata": {
        "id": "I2Rcyhevd8UJ"
      },
      "outputs": [],
      "source": [
        "#applying the function to standardise the apartment_type column\n",
        "apartment_setup(lek_rental)\n",
        "apartment_setup(lek_sales)"
      ]
    },
    {
      "cell_type": "code",
      "source": [
        "# filter out the occurence of land in the dataset as i want to focus on only aparments\n",
        "lek_sales = lek_sales[~lek_sales['apartment_type'].str.contains(r'\\bland\\b', case=False, na = False)]\n",
        "lek_rental = lek_rental[~lek_rental['apartment_type'].str.contains(r'\\bland\\b', case = False, na = False)]"
      ],
      "metadata": {
        "id": "L1KfBZ8mOvUd"
      },
      "execution_count": null,
      "outputs": []
    },
    {
      "cell_type": "code",
      "execution_count": null,
      "metadata": {
        "id": "6EnfUzmyN7dt"
      },
      "outputs": [],
      "source": [
        "# too many different apartment names and to simplify the process a bit, i decided to drop some locations with very few values(precisely those with less than 10)\n",
        "lek_sales = lek_sales[lek_sales['apartment_type'].isin(list(lek_sales['apartment_type'].value_counts()[lek_sales['apartment_type'].value_counts()>10].index))]\n",
        "lek_rental = lek_rental[lek_rental['apartment_type'].isin(list(lek_rental['apartment_type'].value_counts()[lek_rental['apartment_type'].value_counts()>10].index))]\n"
      ]
    },
    {
      "cell_type": "code",
      "execution_count": null,
      "metadata": {
        "colab": {
          "base_uri": "https://localhost:8080/"
        },
        "id": "NgrOq77CorsY",
        "outputId": "e835722b-a6f3-4094-ec54-3251fdbc9d4e"
      },
      "outputs": [
        {
          "output_type": "execute_result",
          "data": {
            "text/plain": [
              "(25, 34)"
            ]
          },
          "metadata": {},
          "execution_count": 21
        }
      ],
      "source": [
        "#return the number of unique values for the apartment column\n",
        "lek_rental.apartment_type.nunique(), lek_sales.apartment_type.nunique()"
      ]
    },
    {
      "cell_type": "code",
      "execution_count": null,
      "metadata": {
        "id": "sKJadBIQviK-"
      },
      "outputs": [],
      "source": [
        "#also drop occurences of hotel spaces and shop spaces\n",
        "lek_sales.drop(index = lek_sales[(lek_sales.apartment_type == 'Hotel Space') | (lek_sales.apartment_type == 'Shop Space')].index, inplace = True)"
      ]
    },
    {
      "cell_type": "code",
      "execution_count": null,
      "metadata": {
        "id": "dutIuNYlvomM"
      },
      "outputs": [],
      "source": [
        "#also drop occurences of hotel spaces and shop spaces\n",
        "lek_rental.drop(index = lek_rental[(lek_rental.apartment_type == 'Hotel Space') | (lek_rental.apartment_type == 'Shop Space')].index, inplace = True)"
      ]
    },
    {
      "cell_type": "markdown",
      "metadata": {
        "id": "EWkEfye0d-y_"
      },
      "source": [
        "# Analysis"
      ]
    },
    {
      "cell_type": "code",
      "source": [
        "lek_rental.describe(), lek_sales.describe()"
      ],
      "metadata": {
        "colab": {
          "base_uri": "https://localhost:8080/"
        },
        "id": "yd7jjUOBSdUI",
        "outputId": "f0db9afc-137e-4655-b13b-bf70b72c6319"
      },
      "execution_count": null,
      "outputs": [
        {
          "output_type": "execute_result",
          "data": {
            "text/plain": [
              "(              price\n",
              " count  5.127000e+03\n",
              " mean   6.460277e+06\n",
              " std    8.441585e+07\n",
              " min    3.500000e+04\n",
              " 25%    2.500000e+06\n",
              " 50%    4.000000e+06\n",
              " 75%    6.000000e+06\n",
              " max    6.000000e+09,\n",
              "               price\n",
              " count  1.357700e+04\n",
              " mean   1.763201e+08\n",
              " std    1.166952e+09\n",
              " min    0.000000e+00\n",
              " 25%    7.500000e+07\n",
              " 50%    1.200000e+08\n",
              " 75%    2.000000e+08\n",
              " max    1.350000e+11)"
            ]
          },
          "metadata": {},
          "execution_count": 24
        }
      ]
    },
    {
      "cell_type": "code",
      "source": [
        "def box(dfs):\n",
        "  sns.boxplot(x = dfs['price'])\n",
        "  plt.show()"
      ],
      "metadata": {
        "id": "hj8--X2UQWIr"
      },
      "execution_count": null,
      "outputs": []
    },
    {
      "cell_type": "code",
      "source": [
        "# quick check for outliers\n",
        "box(lek_rental),box(lek_sales)"
      ],
      "metadata": {
        "colab": {
          "base_uri": "https://localhost:8080/",
          "height": 898
        },
        "id": "8TJB8PyxQnLM",
        "outputId": "b1425aba-2b9e-4eae-c696-79ccf27e13b6"
      },
      "execution_count": null,
      "outputs": [
        {
          "output_type": "display_data",
          "data": {
            "text/plain": [
              "<Figure size 640x480 with 1 Axes>"
            ],
            "image/png": "[encoded data removed]"
          },
          "metadata": {}
        },
        {
          "output_type": "display_data",
          "data": {
            "text/plain": [
              "<Figure size 640x480 with 1 Axes>"
            ],
            "image/png": "[encoded data removed]"
          },
          "metadata": {}
        },
        {
          "output_type": "execute_result",
          "data": {
            "text/plain": [
              "(None, None)"
            ]
          },
          "metadata": {},
          "execution_count": 29
        }
      ]
    },
    {
      "cell_type": "code",
      "source": [
        "lek_sales = lek_sales.query('price < 120000000000')"
      ],
      "metadata": {
        "id": "wtvvE3eyS28l"
      },
      "execution_count": null,
      "outputs": []
    },
    {
      "cell_type": "code",
      "execution_count": null,
      "metadata": {
        "id": "ffXbD34uhGrj"
      },
      "outputs": [],
      "source": [
        "lek_rental = lek_rental.query('price < 5000000000')"
      ]
    },
    {
      "cell_type": "code",
      "execution_count": null,
      "metadata": {
        "colab": {
          "base_uri": "https://localhost:8080/",
          "height": 466
        },
        "id": "eLaTBQ1Vheft",
        "outputId": "9b67296a-c95e-46d0-933d-47c5dba9af45"
      },
      "outputs": [
        {
          "output_type": "execute_result",
          "data": {
            "text/plain": [
              "<Axes: xlabel='price', ylabel='Count'>"
            ]
          },
          "metadata": {},
          "execution_count": 30
        },
        {
          "output_type": "display_data",
          "data": {
            "text/plain": [
              "<Figure size 640x480 with 1 Axes>"
            ],
            "image/png": "[encoded data removed]"
          },
          "metadata": {}
        }
      ],
      "source": [
        "sns.histplot(x = np.log(lek_rental.price), kde = True, bins = 50)"
      ]
    },
    {
      "cell_type": "code",
      "source": [
        "lek_rental.shape, lek_sales.shape"
      ],
      "metadata": {
        "colab": {
          "base_uri": "https://localhost:8080/"
        },
        "id": "TkE0_S8crs8m",
        "outputId": "520e976c-1883-4edd-fac1-b2887eb2e342"
      },
      "execution_count": null,
      "outputs": [
        {
          "output_type": "execute_result",
          "data": {
            "text/plain": [
              "((5126, 7), (13576, 5))"
            ]
          },
          "metadata": {},
          "execution_count": 31
        }
      ]
    },
    {
      "cell_type": "code",
      "source": [
        "lek_rental.to_csv('Lekki_main_rentals', index = False)\n",
        "lek_sales.to_csv('Lekki_main_sales', index = False)\n"
      ],
      "metadata": {
        "id": "DeXxh3MOUrM2"
      },
      "execution_count": null,
      "outputs": []
    },
    {
      "cell_type": "code",
      "source": [],
      "metadata": {
        "id": "rlYwvgJ7M0fD"
      },
      "execution_count": null,
      "outputs": []
    }
  ],
  "metadata": {
    "colab": {
      "provenance": [],
      "authorship_tag": "ABX9TyOoDrs36RXF/6Oi1ch9poz5",
      "include_colab_link": true
    },
    "kernelspec": {
      "display_name": "Python 3",
      "name": "python3"
    },
    "language_info": {
      "name": "python"
    }
  },
  "nbformat": 4,
  "nbformat_minor": 0
}